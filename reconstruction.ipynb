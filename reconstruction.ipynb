{
 "cells": [
  {
   "cell_type": "code",
   "execution_count": 2,
   "metadata": {},
   "outputs": [],
   "source": [
    "from pathlib import Path\n",
    "import h5py\n",
    "import torch\n",
    "\n",
    "\n",
    "from mrboost import io_utils as iou\n",
    "from mrboost import reconstruction as recon\n",
    "from mrboost import computation as comp\n",
    "# from mrboost import preprocessing as pre\n",
    "# from mrboost.density_compensation import *\n",
    "# from mrboost.coil_sensitivity_estimation import *\n",
    "# from mrboost.torch_utils import *\n",
    "%load_ext autoreload\n",
    "%autoreload 2\n"
   ]
  },
  {
   "attachments": {},
   "cell_type": "markdown",
   "metadata": {},
   "source": [
    "# CAPTURE_DCE 5D Data"
   ]
  },
  {
   "cell_type": "code",
   "execution_count": null,
   "metadata": {},
   "outputs": [],
   "source": [
    "dat_file_to_recon = Path('/data-local/anlab/Chunxu/RawData_MR/CCIR_01168_ONC-DCE/ONC-DCE-014/meas_MID00099_FID12331_CAPTURE_FA14_5_Dyn.dat')\n",
    "# dat_file_to_recon = Path('/data/anlab/Chunxu/meas_MID00017_FID93856_fl3d_vibe_GA_BlackBone_20210507.dat')\n",
    "filename = dat_file_to_recon.parts[-1]\n",
    "reconstructor = recon.CAPTURE_VarW_NQM_DCE_PostInj(dat_file_location=dat_file_to_recon, which_slice=-1,which_contra=-1,which_phase=-1)\n",
    "img = reconstructor.forward()\n",
    "img = comp.normalization(img)\n",
    "output_dir = Path('/data/anlab/Chunxu/DL_MOTIF')/'recon_results'/filename\n",
    "iou.check_mk_dirs(output_dir)\n",
    "with h5py.File(output_dir/(filename+'.h5'),'w') as f:\n",
    "    dset = f.create_dataset('abs', data=img.abs().to(torch.float32))\n",
    "    dset = f.create_dataset('imag', data=img.imag.to(torch.float32))\n",
    "    dset = f.create_dataset('real', data=img.real.to(torch.float32))\n",
    "print(filename,'finished')"
   ]
  },
  {
   "attachments": {},
   "cell_type": "markdown",
   "metadata": {},
   "source": [
    "# BlackBoneStackOfStars_Subset_4DL_LowResZ Data "
   ]
  },
  {
   "cell_type": "code",
   "execution_count": 5,
   "metadata": {},
   "outputs": [
    {
     "name": "stdout",
     "output_type": "stream",
     "text": [
      "pymapVBVD version 0.4.8\n",
      "Software version: VD\n"
     ]
    },
    {
     "data": {
      "application/vnd.jupyter.widget-view+json": {
       "model_id": "52364f20c01144d7b3f4ff0df7d19e14",
       "version_major": 2,
       "version_minor": 0
      },
      "text/plain": [
       "Scan 1/2, read all mdhs:   0%|          | 0.00/60.6M [00:00<?, ?B/s]"
      ]
     },
     "metadata": {},
     "output_type": "display_data"
    },
    {
     "data": {
      "application/vnd.jupyter.widget-view+json": {
       "model_id": "e2db7df9ce30440bb8aab1a8c9010886",
       "version_major": 2,
       "version_minor": 0
      },
      "text/plain": [
       "Scan 2/2, read all mdhs:   0%|          | 0.00/9.65G [00:00<?, ?B/s]"
      ]
     },
     "metadata": {},
     "output_type": "display_data"
    },
    {
     "data": {
      "application/vnd.jupyter.widget-view+json": {
       "model_id": "e41202185c1146c1a566bb76f569366d",
       "version_major": 2,
       "version_minor": 0
      },
      "text/plain": [
       "read data:   0%|          | 0/62800 [00:00<?, ?it/s]"
      ]
     },
     "metadata": {},
     "output_type": "display_data"
    },
    {
     "name": "stderr",
     "output_type": "stream",
     "text": [
      "/data/anlab/Chunxu/mri_reconstruction_tools/src/mrboost/mapvbvd/twix_map_obj.py:766: RuntimeWarning: invalid value encountered in add\n",
      "  raw = (raw[:, 0] + 1j * raw[:, 1]).reshape(readShape, order='F')\n"
     ]
    }
   ],
   "source": [
    "dat_file_to_recon = Path('/data/anlab/Chunxu/meas_MID00017_FID93856_fl3d_vibe_GA_BlackBone_20210507.dat')\n",
    "filename = dat_file_to_recon.parts[-1]\n",
    "reconstructor = recon.BlackBoneStackOfStars_Subset_4DL_LowResZ(dat_file_location=dat_file_to_recon, spokes_to_recon=(6,400))\n",
    "data_raw = reconstructor.get_raw_data(reconstructor.dat_file_location)\n",
    "\n"
   ]
  },
  {
   "cell_type": "code",
   "execution_count": 11,
   "metadata": {},
   "outputs": [
    {
     "name": "stderr",
     "output_type": "stream",
     "text": [
      "100%|██████████| 16/16 [00:06<00:00,  2.56it/s]\n",
      "100%|██████████| 16/16 [04:35<00:00, 17.21s/it]\n"
     ]
    },
    {
     "ename": "AttributeError",
     "evalue": "'Lowk_3D_CSE' object has no attribute 'to'",
     "output_type": "error",
     "traceback": [
      "\u001b[0;31m---------------------------------------------------------------------------\u001b[0m",
      "\u001b[0;31mAttributeError\u001b[0m                            Traceback (most recent call last)",
      "\u001b[0;32m/tmp/ipykernel_1559425/3061758067.py\u001b[0m in \u001b[0;36m<module>\u001b[0;34m\u001b[0m\n\u001b[1;32m      2\u001b[0m \u001b[0mreconstructor\u001b[0m\u001b[0;34m.\u001b[0m\u001b[0margs_init\u001b[0m\u001b[0;34m(\u001b[0m\u001b[0;34m)\u001b[0m\u001b[0;34m\u001b[0m\u001b[0;34m\u001b[0m\u001b[0m\n\u001b[1;32m      3\u001b[0m \u001b[0mdata_dict\u001b[0m \u001b[0;34m=\u001b[0m \u001b[0mreconstructor\u001b[0m\u001b[0;34m.\u001b[0m\u001b[0mdata_preprocess\u001b[0m\u001b[0;34m(\u001b[0m\u001b[0mdata_raw\u001b[0m\u001b[0;34m)\u001b[0m\u001b[0;34m\u001b[0m\u001b[0;34m\u001b[0m\u001b[0m\n\u001b[0;32m----> 4\u001b[0;31m \u001b[0mimg\u001b[0m \u001b[0;34m=\u001b[0m \u001b[0mreconstructor\u001b[0m\u001b[0;34m.\u001b[0m\u001b[0mreconstruction\u001b[0m\u001b[0;34m(\u001b[0m\u001b[0mdata_dict\u001b[0m\u001b[0;34m)\u001b[0m\u001b[0;34m\u001b[0m\u001b[0;34m\u001b[0m\u001b[0m\n\u001b[0m\u001b[1;32m      5\u001b[0m \u001b[0mimg\u001b[0m \u001b[0;34m=\u001b[0m \u001b[0mcomp\u001b[0m\u001b[0;34m.\u001b[0m\u001b[0mnormalization\u001b[0m\u001b[0;34m(\u001b[0m\u001b[0mimg\u001b[0m\u001b[0;34m)\u001b[0m\u001b[0;34m\u001b[0m\u001b[0;34m\u001b[0m\u001b[0m\n\u001b[1;32m      6\u001b[0m \u001b[0moutput_dir\u001b[0m \u001b[0;34m=\u001b[0m \u001b[0mPath\u001b[0m\u001b[0;34m(\u001b[0m\u001b[0;34m'/data/anlab/Chunxu/DL_MOTIF'\u001b[0m\u001b[0;34m)\u001b[0m\u001b[0;34m/\u001b[0m\u001b[0;34m'recon_results'\u001b[0m\u001b[0;34m/\u001b[0m\u001b[0mfilename\u001b[0m\u001b[0;34m\u001b[0m\u001b[0;34m\u001b[0m\u001b[0m\n",
      "\u001b[0;32m/data/anlab/Chunxu/mri_reconstruction_tools/src/mrboost/reconstruction.py\u001b[0m in \u001b[0;36mreconstruction\u001b[0;34m(self, data_dict)\u001b[0m\n\u001b[1;32m    160\u001b[0m \u001b[0;34m\u001b[0m\u001b[0m\n\u001b[1;32m    161\u001b[0m         \u001b[0mimg\u001b[0m \u001b[0;34m=\u001b[0m \u001b[0mtorch\u001b[0m\u001b[0;34m.\u001b[0m\u001b[0mzeros\u001b[0m\u001b[0;34m(\u001b[0m\u001b[0;34m(\u001b[0m\u001b[0mlen\u001b[0m\u001b[0;34m(\u001b[0m\u001b[0mself\u001b[0m\u001b[0;34m.\u001b[0m\u001b[0mslice_to_recon\u001b[0m\u001b[0;34m)\u001b[0m\u001b[0;34m,\u001b[0m \u001b[0mself\u001b[0m\u001b[0;34m.\u001b[0m\u001b[0mim_size\u001b[0m\u001b[0;34m[\u001b[0m\u001b[0;36m0\u001b[0m\u001b[0;34m]\u001b[0m\u001b[0;34m//\u001b[0m\u001b[0;36m2\u001b[0m\u001b[0;34m,\u001b[0m \u001b[0mself\u001b[0m\u001b[0;34m.\u001b[0m\u001b[0mim_size\u001b[0m\u001b[0;34m[\u001b[0m\u001b[0;36m1\u001b[0m\u001b[0;34m]\u001b[0m\u001b[0;34m//\u001b[0m\u001b[0;36m2\u001b[0m\u001b[0;34m)\u001b[0m\u001b[0;34m,\u001b[0m \u001b[0mdtype\u001b[0m\u001b[0;34m=\u001b[0m\u001b[0mtorch\u001b[0m\u001b[0;34m.\u001b[0m\u001b[0mcomplex64\u001b[0m\u001b[0;34m)\u001b[0m\u001b[0;34m\u001b[0m\u001b[0;34m\u001b[0m\u001b[0m\n\u001b[0;32m--> 162\u001b[0;31m         sensitivity_map = cse.to(torch.complex64).conj()[\n\u001b[0m\u001b[1;32m    163\u001b[0m                 :, self.slice_to_recon]\n\u001b[1;32m    164\u001b[0m         output = comp.batch_process(batch_size=2, device=self.device)(comp.recon_adjnufft)(\n",
      "\u001b[0;31mAttributeError\u001b[0m: 'Lowk_3D_CSE' object has no attribute 'to'"
     ]
    }
   ],
   "source": [
    "reconstructor.device = torch.device('cpu')\n",
    "reconstructor.args_init()\n",
    "data_dict = reconstructor.data_preprocess(data_raw)\n"
   ]
  },
  {
   "cell_type": "code",
   "execution_count": 13,
   "metadata": {},
   "outputs": [
    {
     "name": "stderr",
     "output_type": "stream",
     "text": [
      "  0%|          | 0/16 [00:00<?, ?it/s]"
     ]
    }
   ],
   "source": [
    "img = reconstructor.reconstruction(data_dict)\n",
    "img = comp.normalization(img)\n",
    "output_dir = Path('/data/anlab/Chunxu/DL_MOTIF')/'recon_results'/filename\n",
    "iou.check_mk_dirs(output_dir)\n",
    "with h5py.File(output_dir/(filename+'.h5'),'w') as f:\n",
    "    dset = f.create_dataset('abs', data=img.abs().to(torch.float32))\n",
    "    dset = f.create_dataset('imag', data=img.imag.to(torch.float32))\n",
    "    dset = f.create_dataset('real', data=img.real.to(torch.float32))\n",
    "print(filename,'finished')"
   ]
  },
  {
   "cell_type": "code",
   "execution_count": 9,
   "metadata": {},
   "outputs": [
    {
     "name": "stdout",
     "output_type": "stream",
     "text": [
      "pymapVBVD version 0.4.8\n",
      "Software version: VD\n"
     ]
    },
    {
     "data": {
      "application/vnd.jupyter.widget-view+json": {
       "model_id": "67232167731a47e9aabb497090501b4f",
       "version_major": 2,
       "version_minor": 0
      },
      "text/plain": [
       "Scan 1/1, read all mdhs:   0%|          | 0.00/6.93G [00:00<?, ?B/s]"
      ]
     },
     "metadata": {},
     "output_type": "display_data"
    },
    {
     "name": "stdout",
     "output_type": "stream",
     "text": [
      "AttrDict({'hdr': ***twix_hdr***\n",
      "Top level data structures: \n",
      "Config\n",
      "Dicom\n",
      "Meas\n",
      "MeasYaps\n",
      "Phoenix\n",
      "Spice\n",
      ", 'image': ***twix_map_obj***\n",
      "File: /data-local/anlab/Chunxu/RawData_MR/CCIR_01168_ONC-DCE/ONC-DCE-013/meas_MID00213_FID10842_CAPTURE_FA15_Dyn.dat\n",
      "Software: vd\n",
      "Number of acquisitions read 96000\n",
      "Data size is [ 640,  15,3000,  32,   1,   1,   1,   1,   1,   1,   1,   1,   1,   1,\n",
      "    1,   1]\n",
      "Squeezed data size is [320,15,3000,32] (['Col', 'Cha', 'Lin', 'Par'])\n",
      "NCol = 640\n",
      "NCha = 15\n",
      "NLin  = 3000\n",
      "NAve  = 1\n",
      "NSli  = 1\n",
      "NPar  = 32\n",
      "NEco  = 1\n",
      "NPhs  = 1\n",
      "NRep  = 1\n",
      "NSet  = 1\n",
      "NSeg  = 1\n",
      "NIda  = 1\n",
      "NIdb  = 1\n",
      "NIdc  = 1\n",
      "NIdd  = 1\n",
      "NIde  = 1})\n"
     ]
    },
    {
     "data": {
      "application/vnd.jupyter.widget-view+json": {
       "model_id": "f0bcec63c3254c728d9be2d3be6d522c",
       "version_major": 2,
       "version_minor": 0
      },
      "text/plain": [
       "read data:   0%|          | 0/96000 [00:00<?, ?it/s]"
      ]
     },
     "metadata": {},
     "output_type": "display_data"
    },
    {
     "ename": "KeyboardInterrupt",
     "evalue": "",
     "output_type": "error",
     "traceback": [
      "\u001b[0;31m---------------------------------------------------------------------------\u001b[0m",
      "\u001b[0;31mKeyboardInterrupt\u001b[0m                         Traceback (most recent call last)",
      "\u001b[0;32m/tmp/ipykernel_3531090/2514905662.py\u001b[0m in \u001b[0;36m<module>\u001b[0;34m\u001b[0m\n\u001b[0;32m----> 1\u001b[0;31m \u001b[0mreconstructor\u001b[0m\u001b[0;34m.\u001b[0m\u001b[0mget_raw_data\u001b[0m\u001b[0;34m(\u001b[0m\u001b[0mreconstructor\u001b[0m\u001b[0;34m.\u001b[0m\u001b[0mdat_file_location\u001b[0m\u001b[0;34m)\u001b[0m\u001b[0;34m\u001b[0m\u001b[0;34m\u001b[0m\u001b[0m\n\u001b[0m",
      "\u001b[0;32m/data-local/anlab/Chunxu/DL_MOTIF/1_2_CAPTURE/src/reconstruction.py\u001b[0m in \u001b[0;36mget_raw_data\u001b[0;34m(self, dat_file_location)\u001b[0m\n\u001b[1;32m     37\u001b[0m         \u001b[0mself\u001b[0m\u001b[0;34m.\u001b[0m\u001b[0mtwixobj\u001b[0m\u001b[0;34m.\u001b[0m\u001b[0mimage\u001b[0m\u001b[0;34m.\u001b[0m\u001b[0mflagRemoveOS\u001b[0m \u001b[0;34m=\u001b[0m \u001b[0;32mFalse\u001b[0m\u001b[0;34m\u001b[0m\u001b[0;34m\u001b[0m\u001b[0m\n\u001b[1;32m     38\u001b[0m         data_raw = eo.rearrange(\n\u001b[0;32m---> 39\u001b[0;31m             self.twixobj.image[''], 'spoke_len ch_num spoke_num partition_num -> ch_num partition_num spoke_num spoke_len')\n\u001b[0m\u001b[1;32m     40\u001b[0m         self.shape_dict = eo.parse_shape(\n\u001b[1;32m     41\u001b[0m             data_raw, 'ch_num partition_num spoke_num spoke_len')\n",
      "\u001b[0;32m/data-local/anlab/Chunxu/DL_MOTIF/1_2_CAPTURE/src/mapvbvd/twix_map_obj.py\u001b[0m in \u001b[0;36m__getitem__\u001b[0;34m(self, key)\u001b[0m\n\u001b[1;32m    655\u001b[0m         \u001b[0mixToRaw\u001b[0m \u001b[0;34m=\u001b[0m \u001b[0mixToRaw\u001b[0m\u001b[0;34m[\u001b[0m\u001b[0mix\u001b[0m\u001b[0;34m]\u001b[0m\u001b[0;34m\u001b[0m\u001b[0;34m\u001b[0m\u001b[0m\n\u001b[1;32m    656\u001b[0m         \u001b[0;31m# import pdb; pdb.set_trace()\u001b[0m\u001b[0;34m\u001b[0m\u001b[0;34m\u001b[0m\u001b[0m\n\u001b[0;32m--> 657\u001b[0;31m         \u001b[0mout\u001b[0m \u001b[0;34m=\u001b[0m \u001b[0mself\u001b[0m\u001b[0;34m.\u001b[0m\u001b[0mreadData\u001b[0m\u001b[0;34m(\u001b[0m\u001b[0mmem\u001b[0m\u001b[0;34m,\u001b[0m \u001b[0mixToTarg\u001b[0m\u001b[0;34m,\u001b[0m \u001b[0mixToRaw\u001b[0m\u001b[0;34m,\u001b[0m \u001b[0mselRange\u001b[0m\u001b[0;34m,\u001b[0m \u001b[0mselRangeSz\u001b[0m\u001b[0;34m,\u001b[0m \u001b[0moutSize\u001b[0m\u001b[0;34m)\u001b[0m\u001b[0;34m\u001b[0m\u001b[0;34m\u001b[0m\u001b[0m\n\u001b[0m\u001b[1;32m    658\u001b[0m \u001b[0;34m\u001b[0m\u001b[0m\n\u001b[1;32m    659\u001b[0m         \u001b[0;32mreturn\u001b[0m \u001b[0mout\u001b[0m\u001b[0;34m\u001b[0m\u001b[0;34m\u001b[0m\u001b[0m\n",
      "\u001b[0;32m/data-local/anlab/Chunxu/DL_MOTIF/1_2_CAPTURE/src/mapvbvd/twix_map_obj.py\u001b[0m in \u001b[0;36mreadData\u001b[0;34m(self, mem, cIxToTarg, cIxToRaw, selRange, selRangeSz, outSize)\u001b[0m\n\u001b[1;32m    780\u001b[0m                 \u001b[0misBrokenRead\u001b[0m \u001b[0;34m=\u001b[0m \u001b[0;32mTrue\u001b[0m  \u001b[0;31m# remember it and bail out later\u001b[0m\u001b[0;34m\u001b[0m\u001b[0;34m\u001b[0m\u001b[0m\n\u001b[1;32m    781\u001b[0m \u001b[0;34m\u001b[0m\u001b[0m\n\u001b[0;32m--> 782\u001b[0;31m             \u001b[0mblock\u001b[0m\u001b[0;34m[\u001b[0m\u001b[0;34m:\u001b[0m\u001b[0;34m,\u001b[0m \u001b[0;34m:\u001b[0m\u001b[0;34m,\u001b[0m \u001b[0mblockCtr\u001b[0m\u001b[0;34m,\u001b[0m \u001b[0;32mNone\u001b[0m\u001b[0;34m]\u001b[0m \u001b[0;34m=\u001b[0m \u001b[0mcopy\u001b[0m\u001b[0;34m.\u001b[0m\u001b[0mdeepcopy\u001b[0m\u001b[0;34m(\u001b[0m\u001b[0mraw\u001b[0m\u001b[0;34m)\u001b[0m\u001b[0;34m.\u001b[0m\u001b[0mreshape\u001b[0m\u001b[0;34m(\u001b[0m\u001b[0mnp\u001b[0m\u001b[0;34m.\u001b[0m\u001b[0mappend\u001b[0m\u001b[0;34m(\u001b[0m\u001b[0mreadShape\u001b[0m\u001b[0;34m,\u001b[0m \u001b[0;36m1\u001b[0m\u001b[0;34m)\u001b[0m\u001b[0;34m)\u001b[0m\u001b[0;34m\u001b[0m\u001b[0;34m\u001b[0m\u001b[0m\n\u001b[0m\u001b[1;32m    783\u001b[0m             \u001b[0;31m# fast serial storage in a cache array - this is probably all very dependent on whether I've got things\u001b[0m\u001b[0;34m\u001b[0m\u001b[0;34m\u001b[0m\u001b[0m\n\u001b[1;32m    784\u001b[0m             \u001b[0;31m# contiguous in memory. I highly doubt that I have on this first pass. WTC\u001b[0m\u001b[0;34m\u001b[0m\u001b[0;34m\u001b[0m\u001b[0m\n",
      "\u001b[0;31mKeyboardInterrupt\u001b[0m: "
     ]
    }
   ],
   "source": [
    "reconstructor.get_raw_data(reconstructor.dat_file_location)"
   ]
  }
 ],
 "metadata": {
  "kernelspec": {
   "display_name": "base",
   "language": "python",
   "name": "python3"
  },
  "language_info": {
   "codemirror_mode": {
    "name": "ipython",
    "version": 3
   },
   "file_extension": ".py",
   "mimetype": "text/x-python",
   "name": "python",
   "nbconvert_exporter": "python",
   "pygments_lexer": "ipython3",
   "version": "3.9.13"
  },
  "orig_nbformat": 4,
  "vscode": {
   "interpreter": {
    "hash": "d675ec34598e6049595d01b931484e6080e4c764077ebc0f515ca8228d7e0d65"
   }
  }
 },
 "nbformat": 4,
 "nbformat_minor": 2
}
