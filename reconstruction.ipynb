{
 "cells": [
  {
   "cell_type": "code",
   "execution_count": 2,
   "metadata": {},
   "outputs": [],
   "source": [
    "from pathlib import Path\n",
    "import h5py\n",
    "import torch\n",
    "\n",
    "\n",
    "from mrboost import io_utils as iou\n",
    "from mrboost import reconstruction as recon\n",
    "from mrboost import computation as comp\n",
    "# from mrboost import preprocessing as pre\n",
    "# from mrboost.density_compensation import *\n",
    "# from mrboost.coil_sensitivity_estimation import *\n",
    "# from mrboost.torch_utils import *\n",
    "%load_ext autoreload\n",
    "%autoreload 2\n"
   ]
  },
  {
   "attachments": {},
   "cell_type": "markdown",
   "metadata": {},
   "source": [
    "# CAPTURE_DCE 5D Data"
   ]
  },
  {
   "cell_type": "code",
   "execution_count": null,
   "metadata": {},
   "outputs": [],
   "source": [
    "dat_file_to_recon = Path('/data-local/anlab/Chunxu/RawData_MR/CCIR_01168_ONC-DCE/ONC-DCE-014/meas_MID00099_FID12331_CAPTURE_FA14_5_Dyn.dat')\n",
    "# dat_file_to_recon = Path('/data/anlab/Chunxu/meas_MID00017_FID93856_fl3d_vibe_GA_BlackBone_20210507.dat')\n",
    "filename = dat_file_to_recon.parts[-1]\n",
    "reconstructor = recon.CAPTURE_VarW_NQM_DCE_PostInj(dat_file_location=dat_file_to_recon, which_slice=-1,which_contra=-1,which_phase=-1)\n",
    "img = reconstructor.forward()\n",
    "img = comp.normalization(img)\n",
    "output_dir = Path('/data/anlab/Chunxu/DL_MOTIF')/'recon_results'/filename\n",
    "iou.check_mk_dirs(output_dir)\n",
    "iou.to_hdf5(output_dir/(filename+'.h5'))"
   ]
  },
  {
   "attachments": {},
   "cell_type": "markdown",
   "metadata": {},
   "source": [
    "# BlackBoneStackOfStars_Subset_4DL_LowResZ Data "
   ]
  },
  {
   "cell_type": "code",
   "execution_count": null,
   "metadata": {},
   "outputs": [],
   "source": [
    "dat_file_to_recon = Path('/data/anlab/Chunxu/meas_MID00017_FID93856_fl3d_vibe_GA_BlackBone_20210507.dat')\n",
    "filename = dat_file_to_recon.parts[-1]\n",
    "reconstructor = recon.BlackBoneStackOfStars_Subset_4DL_LowResZ(dat_file_location=dat_file_to_recon, spokes_to_recon=(6,400))\n",
    "data_raw = reconstructor.get_raw_data(reconstructor.dat_file_location)"
   ]
  },
  {
   "cell_type": "code",
   "execution_count": null,
   "metadata": {},
   "outputs": [],
   "source": [
    "reconstructor.device = torch.device('cpu')\n",
    "reconstructor.args_init()\n",
    "data_dict = reconstructor.data_preprocess(data_raw)"
   ]
  },
  {
   "cell_type": "code",
   "execution_count": 13,
   "metadata": {},
   "outputs": [
    {
     "name": "stderr",
     "output_type": "stream",
     "text": [
      "100%|██████████| 16/16 [04:12<00:00, 15.80s/it]\n"
     ]
    },
    {
     "name": "stdout",
     "output_type": "stream",
     "text": [
      "meas_MID00017_FID93856_fl3d_vibe_GA_BlackBone_20210507.dat finished\n"
     ]
    },
    {
     "ename": "",
     "evalue": "",
     "output_type": "error",
     "traceback": [
      "\u001b[1;31mThe Kernel crashed while executing code in the the current cell or a previous cell. Please review the code in the cell(s) to identify a possible cause of the failure. Click <a href='https://aka.ms/vscodeJupyterKernelCrash'>here</a> for more info. View Jupyter <a href='command:jupyter.viewOutput'>log</a> for further details."
     ]
    }
   ],
   "source": [
    "img = reconstructor.reconstruction(data_dict)\n",
    "img = comp.normalization(img)\n",
    "output_dir = Path('/data/anlab/Chunxu/DL_MOTIF')/'recon_results'/filename\n",
    "iou.check_mk_dirs(output_dir)\n",
    "iou.to_nifty(output_dir/(filename+'.h5'))"
   ]
  }
 ],
 "metadata": {
  "kernelspec": {
   "display_name": "base",
   "language": "python",
   "name": "python3"
  },
  "language_info": {
   "codemirror_mode": {
    "name": "ipython",
    "version": 3
   },
   "file_extension": ".py",
   "mimetype": "text/x-python",
   "name": "python",
   "nbconvert_exporter": "python",
   "pygments_lexer": "ipython3",
   "version": "3.9.13"
  },
  "orig_nbformat": 4,
  "vscode": {
   "interpreter": {
    "hash": "d675ec34598e6049595d01b931484e6080e4c764077ebc0f515ca8228d7e0d65"
   }
  }
 },
 "nbformat": 4,
 "nbformat_minor": 2
}
