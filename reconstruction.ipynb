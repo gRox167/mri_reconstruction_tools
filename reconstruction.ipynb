{
 "cells": [
  {
   "cell_type": "code",
   "execution_count": 1,
   "metadata": {},
   "outputs": [
    {
     "name": "stderr",
     "output_type": "stream",
     "text": [
      "/data-local/anlab/Chunxu/miniconda3/lib/python3.10/site-packages/tqdm/auto.py:22: TqdmWarning: IProgress not found. Please update jupyter and ipywidgets. See https://ipywidgets.readthedocs.io/en/stable/user_install.html\n",
      "  from .autonotebook import tqdm as notebook_tqdm\n"
     ]
    }
   ],
   "source": [
    "from pathlib import Path\n",
    "import h5py\n",
    "import torch\n",
    "\n",
    "\n",
    "from mrboost import io_utils as iou\n",
    "from mrboost import reconstruction as recon\n",
    "from mrboost import computation as comp\n",
    "# from mrboost import preprocessing as pre\n",
    "# from mrboost.density_compensation import *\n",
    "# from mrboost.coil_sensitivity_estimation import *\n",
    "# from mrboost.torch_utils import *\n",
    "%load_ext autoreload\n",
    "%autoreload 2\n"
   ]
  },
  {
   "attachments": {},
   "cell_type": "markdown",
   "metadata": {},
   "source": [
    "# CAPTURE_DCE 5D Data"
   ]
  },
  {
   "cell_type": "code",
   "execution_count": null,
   "metadata": {},
   "outputs": [],
   "source": [
    "dat_file_to_recon = Path('/data-local/anlab/Chunxu/RawData_MR/CCIR_01168_ONC-DCE/ONC-DCE-014/meas_MID00099_FID12331_CAPTURE_FA14_5_Dyn.dat')\n",
    "# dat_file_to_recon = Path('/data/anlab/Chunxu/meas_MID00017_FID93856_fl3d_vibe_GA_BlackBone_20210507.dat')\n",
    "filename = dat_file_to_recon.parts[-1]\n",
    "reconstructor = recon.CAPTURE_VarW_NQM_DCE_PostInj(dat_file_location=dat_file_to_recon, which_slice=-1,which_contra=-1,which_phase=-1)\n",
    "img = reconstructor.forward()\n",
    "img = comp.normalization(img)\n",
    "output_dir = Path('/data/anlab/Chunxu/DL_MOTIF')/'recon_results'/filename\n",
    "iou.check_mk_dirs(output_dir)\n",
    "iou.to_hdf5(output_dir/(filename+'.h5'))"
   ]
  },
  {
   "attachments": {},
   "cell_type": "markdown",
   "metadata": {},
   "source": [
    "# BlackBoneStackOfStars_Subset_4DL_LowResZ Data "
   ]
  },
  {
   "cell_type": "code",
   "execution_count": 2,
   "metadata": {},
   "outputs": [
    {
     "name": "stdout",
     "output_type": "stream",
     "text": [
      "pymapVBVD version 0.5.2\n",
      "Software version: VD\n",
      "                                                                             \r"
     ]
    },
    {
     "name": "stderr",
     "output_type": "stream",
     "text": [
      "read data:  14%|█▍        | 8900/62800 [00:07<00:42, 1255.55it/s]/data-local/anlab/Chunxu/mri_reconstruction_tools/src/mrboost/mapvbvd/twix_map_obj.py:766: RuntimeWarning: invalid value encountered in add\n",
      "  raw = (raw[:, 0] + 1j * raw[:, 1]).reshape(readShape, order='F')\n",
      "                                                                  \r"
     ]
    }
   ],
   "source": [
    "dat_file_to_recon = Path('/data/anlab/Chunxu/meas_MID00017_FID93856_fl3d_vibe_GA_BlackBone_20210507.dat')\n",
    "filename = dat_file_to_recon.parts[-1]\n",
    "reconstructor = recon.BlackBoneStackOfStars_Subset_4DL_LowResZ(dat_file_location=dat_file_to_recon, spokes_to_recon=(6,400),device=torch.device('cuda:1'))\n",
    "data_raw = reconstructor.get_raw_data(reconstructor.dat_file_location)"
   ]
  },
  {
   "cell_type": "code",
   "execution_count": 4,
   "metadata": {},
   "outputs": [
    {
     "ename": "DeferredCudaCallError",
     "evalue": "CUDA call failed lazily at initialization with error: device >= 0 && device < num_gpus INTERNAL ASSERT FAILED at \"/opt/conda/conda-bld/pytorch_1678411187366/work/aten/src/ATen/cuda/CUDAContext.cpp\":50, please report a bug to PyTorch. \n\nCUDA call was originally invoked at:\n\n['  File \"/data-local/anlab/Chunxu/miniconda3/lib/python3.10/runpy.py\", line 196, in _run_module_as_main\\n    return _run_code(code, main_globals, None,\\n', '  File \"/data-local/anlab/Chunxu/miniconda3/lib/python3.10/runpy.py\", line 86, in _run_code\\n    exec(code, run_globals)\\n', '  File \"/data-local/anlab/Chunxu/miniconda3/lib/python3.10/site-packages/ipykernel_launcher.py\", line 17, in <module>\\n    app.launch_new_instance()\\n', '  File \"/data-local/anlab/Chunxu/miniconda3/lib/python3.10/site-packages/traitlets/config/application.py\", line 1043, in launch_instance\\n    app.start()\\n', '  File \"/data-local/anlab/Chunxu/miniconda3/lib/python3.10/site-packages/ipykernel/kernelapp.py\", line 712, in start\\n    self.io_loop.start()\\n', '  File \"/data-local/anlab/Chunxu/miniconda3/lib/python3.10/site-packages/tornado/platform/asyncio.py\", line 199, in start\\n    self.asyncio_loop.run_forever()\\n', '  File \"/data-local/anlab/Chunxu/miniconda3/lib/python3.10/asyncio/base_events.py\", line 603, in run_forever\\n    self._run_once()\\n', '  File \"/data-local/anlab/Chunxu/miniconda3/lib/python3.10/asyncio/base_events.py\", line 1906, in _run_once\\n    handle._run()\\n', '  File \"/data-local/anlab/Chunxu/miniconda3/lib/python3.10/asyncio/events.py\", line 80, in _run\\n    self._context.run(self._callback, *self._args)\\n', '  File \"/data-local/anlab/Chunxu/miniconda3/lib/python3.10/site-packages/ipykernel/kernelbase.py\", line 510, in dispatch_queue\\n    await self.process_one()\\n', '  File \"/data-local/anlab/Chunxu/miniconda3/lib/python3.10/site-packages/ipykernel/kernelbase.py\", line 499, in process_one\\n    await dispatch(*args)\\n', '  File \"/data-local/anlab/Chunxu/miniconda3/lib/python3.10/site-packages/ipykernel/kernelbase.py\", line 406, in dispatch_shell\\n    await result\\n', '  File \"/data-local/anlab/Chunxu/miniconda3/lib/python3.10/site-packages/ipykernel/kernelbase.py\", line 730, in execute_request\\n    reply_content = await reply_content\\n', '  File \"/data-local/anlab/Chunxu/miniconda3/lib/python3.10/site-packages/ipykernel/ipkernel.py\", line 383, in do_execute\\n    res = shell.run_cell(\\n', '  File \"/data-local/anlab/Chunxu/miniconda3/lib/python3.10/site-packages/ipykernel/zmqshell.py\", line 528, in run_cell\\n    return super().run_cell(*args, **kwargs)\\n', '  File \"/data-local/anlab/Chunxu/miniconda3/lib/python3.10/site-packages/IPython/core/interactiveshell.py\", line 2961, in run_cell\\n    result = self._run_cell(\\n', '  File \"/data-local/anlab/Chunxu/miniconda3/lib/python3.10/site-packages/IPython/core/interactiveshell.py\", line 3016, in _run_cell\\n    result = runner(coro)\\n', '  File \"/data-local/anlab/Chunxu/miniconda3/lib/python3.10/site-packages/IPython/core/async_helpers.py\", line 129, in _pseudo_sync_runner\\n    coro.send(None)\\n', '  File \"/data-local/anlab/Chunxu/miniconda3/lib/python3.10/site-packages/IPython/core/interactiveshell.py\", line 3221, in run_cell_async\\n    has_raised = await self.run_ast_nodes(code_ast.body, cell_name,\\n', '  File \"/data-local/anlab/Chunxu/miniconda3/lib/python3.10/site-packages/IPython/core/interactiveshell.py\", line 3400, in run_ast_nodes\\n    if await self.run_code(code, result, async_=asy):\\n', '  File \"/data-local/anlab/Chunxu/miniconda3/lib/python3.10/site-packages/IPython/core/interactiveshell.py\", line 3460, in run_code\\n    exec(code_obj, self.user_global_ns, self.user_ns)\\n', '  File \"/tmp/ipykernel_3433674/325178900.py\", line 3, in <module>\\n    import torch\\n', '  File \"<frozen importlib._bootstrap>\", line 1027, in _find_and_load\\n', '  File \"<frozen importlib._bootstrap>\", line 1006, in _find_and_load_unlocked\\n', '  File \"<frozen importlib._bootstrap>\", line 688, in _load_unlocked\\n', '  File \"<frozen importlib._bootstrap_external>\", line 883, in exec_module\\n', '  File \"<frozen importlib._bootstrap>\", line 241, in _call_with_frames_removed\\n', '  File \"/data-local/anlab/Chunxu/miniconda3/lib/python3.10/site-packages/torch/__init__.py\", line 1146, in <module>\\n    _C._initExtension(manager_path())\\n', '  File \"<frozen importlib._bootstrap>\", line 1027, in _find_and_load\\n', '  File \"<frozen importlib._bootstrap>\", line 1006, in _find_and_load_unlocked\\n', '  File \"<frozen importlib._bootstrap>\", line 688, in _load_unlocked\\n', '  File \"<frozen importlib._bootstrap_external>\", line 883, in exec_module\\n', '  File \"<frozen importlib._bootstrap>\", line 241, in _call_with_frames_removed\\n', '  File \"/data-local/anlab/Chunxu/miniconda3/lib/python3.10/site-packages/torch/cuda/__init__.py\", line 197, in <module>\\n    _lazy_call(_check_capability)\\n', '  File \"/data-local/anlab/Chunxu/miniconda3/lib/python3.10/site-packages/torch/cuda/__init__.py\", line 195, in _lazy_call\\n    _queued_calls.append((callable, traceback.format_stack()))\\n']",
     "output_type": "error",
     "traceback": [
      "\u001b[0;31m---------------------------------------------------------------------------\u001b[0m",
      "\u001b[0;31mRuntimeError\u001b[0m                              Traceback (most recent call last)",
      "File \u001b[0;32m/data-local/anlab/Chunxu/miniconda3/lib/python3.10/site-packages/torch/cuda/__init__.py:260\u001b[0m, in \u001b[0;36m_lazy_init\u001b[0;34m()\u001b[0m\n\u001b[1;32m    259\u001b[0m \u001b[39mtry\u001b[39;00m:\n\u001b[0;32m--> 260\u001b[0m     queued_call()\n\u001b[1;32m    261\u001b[0m \u001b[39mexcept\u001b[39;00m \u001b[39mException\u001b[39;00m \u001b[39mas\u001b[39;00m e:\n",
      "File \u001b[0;32m/data-local/anlab/Chunxu/miniconda3/lib/python3.10/site-packages/torch/cuda/__init__.py:145\u001b[0m, in \u001b[0;36m_check_capability\u001b[0;34m()\u001b[0m\n\u001b[1;32m    144\u001b[0m \u001b[39mfor\u001b[39;00m d \u001b[39min\u001b[39;00m \u001b[39mrange\u001b[39m(device_count()):\n\u001b[0;32m--> 145\u001b[0m     capability \u001b[39m=\u001b[39m get_device_capability(d)\n\u001b[1;32m    146\u001b[0m     major \u001b[39m=\u001b[39m capability[\u001b[39m0\u001b[39m]\n",
      "File \u001b[0;32m/data-local/anlab/Chunxu/miniconda3/lib/python3.10/site-packages/torch/cuda/__init__.py:381\u001b[0m, in \u001b[0;36mget_device_capability\u001b[0;34m(device)\u001b[0m\n\u001b[1;32m    369\u001b[0m \u001b[39m\u001b[39m\u001b[39mr\u001b[39m\u001b[39m\"\"\"Gets the cuda capability of a device.\u001b[39;00m\n\u001b[1;32m    370\u001b[0m \n\u001b[1;32m    371\u001b[0m \u001b[39mArgs:\u001b[39;00m\n\u001b[0;32m   (...)\u001b[0m\n\u001b[1;32m    379\u001b[0m \u001b[39m    tuple(int, int): the major and minor cuda capability of the device\u001b[39;00m\n\u001b[1;32m    380\u001b[0m \u001b[39m\"\"\"\u001b[39;00m\n\u001b[0;32m--> 381\u001b[0m prop \u001b[39m=\u001b[39m get_device_properties(device)\n\u001b[1;32m    382\u001b[0m \u001b[39mreturn\u001b[39;00m prop\u001b[39m.\u001b[39mmajor, prop\u001b[39m.\u001b[39mminor\n",
      "File \u001b[0;32m/data-local/anlab/Chunxu/miniconda3/lib/python3.10/site-packages/torch/cuda/__init__.py:399\u001b[0m, in \u001b[0;36mget_device_properties\u001b[0;34m(device)\u001b[0m\n\u001b[1;32m    398\u001b[0m     \u001b[39mraise\u001b[39;00m \u001b[39mAssertionError\u001b[39;00m(\u001b[39m\"\u001b[39m\u001b[39mInvalid device id\u001b[39m\u001b[39m\"\u001b[39m)\n\u001b[0;32m--> 399\u001b[0m \u001b[39mreturn\u001b[39;00m _get_device_properties(device)\n",
      "\u001b[0;31mRuntimeError\u001b[0m: device >= 0 && device < num_gpus INTERNAL ASSERT FAILED at \"/opt/conda/conda-bld/pytorch_1678411187366/work/aten/src/ATen/cuda/CUDAContext.cpp\":50, please report a bug to PyTorch. ",
      "\nThe above exception was the direct cause of the following exception:\n",
      "\u001b[0;31mDeferredCudaCallError\u001b[0m                     Traceback (most recent call last)",
      "Cell \u001b[0;32mIn[4], line 2\u001b[0m\n\u001b[1;32m      1\u001b[0m reconstructor\u001b[39m.\u001b[39mdevice \u001b[39m=\u001b[39m torch\u001b[39m.\u001b[39mdevice(\u001b[39m'\u001b[39m\u001b[39mcuda:1\u001b[39m\u001b[39m'\u001b[39m)\n\u001b[0;32m----> 2\u001b[0m reconstructor\u001b[39m.\u001b[39;49margs_init()\n\u001b[1;32m      3\u001b[0m data_dict \u001b[39m=\u001b[39m reconstructor\u001b[39m.\u001b[39mdata_preprocess(data_raw)\n",
      "File \u001b[0;32m/data-local/anlab/Chunxu/mri_reconstruction_tools/src/mrboost/reconstruction.py:75\u001b[0m, in \u001b[0;36mReconstructor.args_init\u001b[0;34m(self, *args, **kwargs)\u001b[0m\n\u001b[1;32m     73\u001b[0m \u001b[39mself\u001b[39m\u001b[39m.\u001b[39margs_init_before(\u001b[39m*\u001b[39margs, \u001b[39m*\u001b[39m\u001b[39m*\u001b[39mkwargs)\n\u001b[1;32m     74\u001b[0m \u001b[39mself\u001b[39m\u001b[39m.\u001b[39m__args_init(\u001b[39m*\u001b[39margs, \u001b[39m*\u001b[39m\u001b[39m*\u001b[39mkwargs)\n\u001b[0;32m---> 75\u001b[0m \u001b[39mself\u001b[39;49m\u001b[39m.\u001b[39;49margs_init_post(\u001b[39m*\u001b[39;49margs, \u001b[39m*\u001b[39;49m\u001b[39m*\u001b[39;49mkwargs)\n",
      "File \u001b[0;32m/data-local/anlab/Chunxu/mri_reconstruction_tools/src/mrboost/reconstruction.py:113\u001b[0m, in \u001b[0;36mBlackBoneStackOfStars_Subset_4DL_LowResZ.args_init_post\u001b[0;34m(self)\u001b[0m\n\u001b[1;32m    109\u001b[0m \u001b[39mself\u001b[39m\u001b[39m.\u001b[39mslice_to_recon \u001b[39m=\u001b[39m [i \u001b[39mfor\u001b[39;00m i \u001b[39min\u001b[39;00m \u001b[39mrange\u001b[39m(\n\u001b[1;32m    110\u001b[0m     \u001b[39mself\u001b[39m\u001b[39m.\u001b[39mslice_num)][\u001b[39mslice\u001b[39m(\u001b[39m*\u001b[39m\u001b[39mself\u001b[39m\u001b[39m.\u001b[39mwhich_slice)]\n\u001b[1;32m    112\u001b[0m \u001b[39m# build nufft operators\u001b[39;00m\n\u001b[0;32m--> 113\u001b[0m \u001b[39mself\u001b[39m\u001b[39m.\u001b[39madjnufft_ob \u001b[39m=\u001b[39m tkbn\u001b[39m.\u001b[39;49mKbNufftAdjoint(im_size\u001b[39m=\u001b[39;49m\u001b[39mself\u001b[39;49m\u001b[39m.\u001b[39;49mim_size, grid_size\u001b[39m=\u001b[39;49m\u001b[39mself\u001b[39;49m\u001b[39m.\u001b[39;49mgrid_size)\u001b[39m.\u001b[39;49mto(\n\u001b[1;32m    114\u001b[0m     \u001b[39mself\u001b[39;49m\u001b[39m.\u001b[39;49mdevice)\n\u001b[1;32m    115\u001b[0m \u001b[39mself\u001b[39m\u001b[39m.\u001b[39mnufft_ob \u001b[39m=\u001b[39m tkbn\u001b[39m.\u001b[39mKbNufft(im_size\u001b[39m=\u001b[39m\u001b[39mself\u001b[39m\u001b[39m.\u001b[39mim_size, grid_size\u001b[39m=\u001b[39m\u001b[39mself\u001b[39m\u001b[39m.\u001b[39mgrid_size)\u001b[39m.\u001b[39mto(\n\u001b[1;32m    116\u001b[0m     \u001b[39mself\u001b[39m\u001b[39m.\u001b[39mdevice)\n",
      "File \u001b[0;32m/data-local/anlab/Chunxu/miniconda3/lib/python3.10/site-packages/torchkbnufft/modules/_kbmodule.py:108\u001b[0m, in \u001b[0;36mKbModule.to\u001b[0;34m(self, *args, **kwargs)\u001b[0m\n\u001b[1;32m    102\u001b[0m         \u001b[39mreturn\u001b[39;00m t\u001b[39m.\u001b[39mto(\n\u001b[1;32m    103\u001b[0m             device, cur_dtype, non_blocking, memory_format\u001b[39m=\u001b[39mconvert_to_format\n\u001b[1;32m    104\u001b[0m         )\n\u001b[1;32m    106\u001b[0m     \u001b[39mreturn\u001b[39;00m t\u001b[39m.\u001b[39mto(device, cur_dtype, non_blocking)\n\u001b[0;32m--> 108\u001b[0m \u001b[39mreturn\u001b[39;00m \u001b[39mself\u001b[39;49m\u001b[39m.\u001b[39;49m_apply(convert)\n",
      "File \u001b[0;32m/data-local/anlab/Chunxu/miniconda3/lib/python3.10/site-packages/torch/nn/modules/module.py:844\u001b[0m, in \u001b[0;36mModule._apply\u001b[0;34m(self, fn)\u001b[0m\n\u001b[1;32m    842\u001b[0m \u001b[39mfor\u001b[39;00m key, buf \u001b[39min\u001b[39;00m \u001b[39mself\u001b[39m\u001b[39m.\u001b[39m_buffers\u001b[39m.\u001b[39mitems():\n\u001b[1;32m    843\u001b[0m     \u001b[39mif\u001b[39;00m buf \u001b[39mis\u001b[39;00m \u001b[39mnot\u001b[39;00m \u001b[39mNone\u001b[39;00m:\n\u001b[0;32m--> 844\u001b[0m         \u001b[39mself\u001b[39m\u001b[39m.\u001b[39m_buffers[key] \u001b[39m=\u001b[39m fn(buf)\n\u001b[1;32m    846\u001b[0m \u001b[39mreturn\u001b[39;00m \u001b[39mself\u001b[39m\n",
      "File \u001b[0;32m/data-local/anlab/Chunxu/miniconda3/lib/python3.10/site-packages/torchkbnufft/modules/_kbmodule.py:106\u001b[0m, in \u001b[0;36mKbModule.to.<locals>.convert\u001b[0;34m(t)\u001b[0m\n\u001b[1;32m    101\u001b[0m \u001b[39mif\u001b[39;00m convert_to_format \u001b[39mis\u001b[39;00m \u001b[39mnot\u001b[39;00m \u001b[39mNone\u001b[39;00m \u001b[39mand\u001b[39;00m t\u001b[39m.\u001b[39mdim() \u001b[39m==\u001b[39m \u001b[39m4\u001b[39m:\n\u001b[1;32m    102\u001b[0m     \u001b[39mreturn\u001b[39;00m t\u001b[39m.\u001b[39mto(\n\u001b[1;32m    103\u001b[0m         device, cur_dtype, non_blocking, memory_format\u001b[39m=\u001b[39mconvert_to_format\n\u001b[1;32m    104\u001b[0m     )\n\u001b[0;32m--> 106\u001b[0m \u001b[39mreturn\u001b[39;00m t\u001b[39m.\u001b[39;49mto(device, cur_dtype, non_blocking)\n",
      "File \u001b[0;32m/data-local/anlab/Chunxu/miniconda3/lib/python3.10/site-packages/torch/cuda/__init__.py:264\u001b[0m, in \u001b[0;36m_lazy_init\u001b[0;34m()\u001b[0m\n\u001b[1;32m    261\u001b[0m         \u001b[39mexcept\u001b[39;00m \u001b[39mException\u001b[39;00m \u001b[39mas\u001b[39;00m e:\n\u001b[1;32m    262\u001b[0m             msg \u001b[39m=\u001b[39m (\u001b[39mf\u001b[39m\u001b[39m\"\u001b[39m\u001b[39mCUDA call failed lazily at initialization with error: \u001b[39m\u001b[39m{\u001b[39;00m\u001b[39mstr\u001b[39m(e)\u001b[39m}\u001b[39;00m\u001b[39m\\n\u001b[39;00m\u001b[39m\\n\u001b[39;00m\u001b[39m\"\u001b[39m\n\u001b[1;32m    263\u001b[0m                    \u001b[39mf\u001b[39m\u001b[39m\"\u001b[39m\u001b[39mCUDA call was originally invoked at:\u001b[39m\u001b[39m\\n\u001b[39;00m\u001b[39m\\n\u001b[39;00m\u001b[39m{\u001b[39;00morig_traceback\u001b[39m}\u001b[39;00m\u001b[39m\"\u001b[39m)\n\u001b[0;32m--> 264\u001b[0m             \u001b[39mraise\u001b[39;00m DeferredCudaCallError(msg) \u001b[39mfrom\u001b[39;00m \u001b[39me\u001b[39;00m\n\u001b[1;32m    265\u001b[0m \u001b[39mfinally\u001b[39;00m:\n\u001b[1;32m    266\u001b[0m     \u001b[39mdelattr\u001b[39m(_tls, \u001b[39m'\u001b[39m\u001b[39mis_initializing\u001b[39m\u001b[39m'\u001b[39m)\n",
      "\u001b[0;31mDeferredCudaCallError\u001b[0m: CUDA call failed lazily at initialization with error: device >= 0 && device < num_gpus INTERNAL ASSERT FAILED at \"/opt/conda/conda-bld/pytorch_1678411187366/work/aten/src/ATen/cuda/CUDAContext.cpp\":50, please report a bug to PyTorch. \n\nCUDA call was originally invoked at:\n\n['  File \"/data-local/anlab/Chunxu/miniconda3/lib/python3.10/runpy.py\", line 196, in _run_module_as_main\\n    return _run_code(code, main_globals, None,\\n', '  File \"/data-local/anlab/Chunxu/miniconda3/lib/python3.10/runpy.py\", line 86, in _run_code\\n    exec(code, run_globals)\\n', '  File \"/data-local/anlab/Chunxu/miniconda3/lib/python3.10/site-packages/ipykernel_launcher.py\", line 17, in <module>\\n    app.launch_new_instance()\\n', '  File \"/data-local/anlab/Chunxu/miniconda3/lib/python3.10/site-packages/traitlets/config/application.py\", line 1043, in launch_instance\\n    app.start()\\n', '  File \"/data-local/anlab/Chunxu/miniconda3/lib/python3.10/site-packages/ipykernel/kernelapp.py\", line 712, in start\\n    self.io_loop.start()\\n', '  File \"/data-local/anlab/Chunxu/miniconda3/lib/python3.10/site-packages/tornado/platform/asyncio.py\", line 199, in start\\n    self.asyncio_loop.run_forever()\\n', '  File \"/data-local/anlab/Chunxu/miniconda3/lib/python3.10/asyncio/base_events.py\", line 603, in run_forever\\n    self._run_once()\\n', '  File \"/data-local/anlab/Chunxu/miniconda3/lib/python3.10/asyncio/base_events.py\", line 1906, in _run_once\\n    handle._run()\\n', '  File \"/data-local/anlab/Chunxu/miniconda3/lib/python3.10/asyncio/events.py\", line 80, in _run\\n    self._context.run(self._callback, *self._args)\\n', '  File \"/data-local/anlab/Chunxu/miniconda3/lib/python3.10/site-packages/ipykernel/kernelbase.py\", line 510, in dispatch_queue\\n    await self.process_one()\\n', '  File \"/data-local/anlab/Chunxu/miniconda3/lib/python3.10/site-packages/ipykernel/kernelbase.py\", line 499, in process_one\\n    await dispatch(*args)\\n', '  File \"/data-local/anlab/Chunxu/miniconda3/lib/python3.10/site-packages/ipykernel/kernelbase.py\", line 406, in dispatch_shell\\n    await result\\n', '  File \"/data-local/anlab/Chunxu/miniconda3/lib/python3.10/site-packages/ipykernel/kernelbase.py\", line 730, in execute_request\\n    reply_content = await reply_content\\n', '  File \"/data-local/anlab/Chunxu/miniconda3/lib/python3.10/site-packages/ipykernel/ipkernel.py\", line 383, in do_execute\\n    res = shell.run_cell(\\n', '  File \"/data-local/anlab/Chunxu/miniconda3/lib/python3.10/site-packages/ipykernel/zmqshell.py\", line 528, in run_cell\\n    return super().run_cell(*args, **kwargs)\\n', '  File \"/data-local/anlab/Chunxu/miniconda3/lib/python3.10/site-packages/IPython/core/interactiveshell.py\", line 2961, in run_cell\\n    result = self._run_cell(\\n', '  File \"/data-local/anlab/Chunxu/miniconda3/lib/python3.10/site-packages/IPython/core/interactiveshell.py\", line 3016, in _run_cell\\n    result = runner(coro)\\n', '  File \"/data-local/anlab/Chunxu/miniconda3/lib/python3.10/site-packages/IPython/core/async_helpers.py\", line 129, in _pseudo_sync_runner\\n    coro.send(None)\\n', '  File \"/data-local/anlab/Chunxu/miniconda3/lib/python3.10/site-packages/IPython/core/interactiveshell.py\", line 3221, in run_cell_async\\n    has_raised = await self.run_ast_nodes(code_ast.body, cell_name,\\n', '  File \"/data-local/anlab/Chunxu/miniconda3/lib/python3.10/site-packages/IPython/core/interactiveshell.py\", line 3400, in run_ast_nodes\\n    if await self.run_code(code, result, async_=asy):\\n', '  File \"/data-local/anlab/Chunxu/miniconda3/lib/python3.10/site-packages/IPython/core/interactiveshell.py\", line 3460, in run_code\\n    exec(code_obj, self.user_global_ns, self.user_ns)\\n', '  File \"/tmp/ipykernel_3433674/325178900.py\", line 3, in <module>\\n    import torch\\n', '  File \"<frozen importlib._bootstrap>\", line 1027, in _find_and_load\\n', '  File \"<frozen importlib._bootstrap>\", line 1006, in _find_and_load_unlocked\\n', '  File \"<frozen importlib._bootstrap>\", line 688, in _load_unlocked\\n', '  File \"<frozen importlib._bootstrap_external>\", line 883, in exec_module\\n', '  File \"<frozen importlib._bootstrap>\", line 241, in _call_with_frames_removed\\n', '  File \"/data-local/anlab/Chunxu/miniconda3/lib/python3.10/site-packages/torch/__init__.py\", line 1146, in <module>\\n    _C._initExtension(manager_path())\\n', '  File \"<frozen importlib._bootstrap>\", line 1027, in _find_and_load\\n', '  File \"<frozen importlib._bootstrap>\", line 1006, in _find_and_load_unlocked\\n', '  File \"<frozen importlib._bootstrap>\", line 688, in _load_unlocked\\n', '  File \"<frozen importlib._bootstrap_external>\", line 883, in exec_module\\n', '  File \"<frozen importlib._bootstrap>\", line 241, in _call_with_frames_removed\\n', '  File \"/data-local/anlab/Chunxu/miniconda3/lib/python3.10/site-packages/torch/cuda/__init__.py\", line 197, in <module>\\n    _lazy_call(_check_capability)\\n', '  File \"/data-local/anlab/Chunxu/miniconda3/lib/python3.10/site-packages/torch/cuda/__init__.py\", line 195, in _lazy_call\\n    _queued_calls.append((callable, traceback.format_stack()))\\n']"
     ]
    }
   ],
   "source": [
    "reconstructor.device = torch.device('cuda:1')\n",
    "reconstructor.args_init()\n",
    "data_dict = reconstructor.data_preprocess(data_raw)"
   ]
  },
  {
   "cell_type": "code",
   "execution_count": 13,
   "metadata": {},
   "outputs": [
    {
     "name": "stderr",
     "output_type": "stream",
     "text": [
      "100%|██████████| 16/16 [04:12<00:00, 15.80s/it]\n"
     ]
    },
    {
     "name": "stdout",
     "output_type": "stream",
     "text": [
      "meas_MID00017_FID93856_fl3d_vibe_GA_BlackBone_20210507.dat finished\n"
     ]
    },
    {
     "ename": "",
     "evalue": "",
     "output_type": "error",
     "traceback": [
      "\u001b[1;31mThe Kernel crashed while executing code in the the current cell or a previous cell. Please review the code in the cell(s) to identify a possible cause of the failure. Click <a href='https://aka.ms/vscodeJupyterKernelCrash'>here</a> for more info. View Jupyter <a href='command:jupyter.viewOutput'>log</a> for further details."
     ]
    }
   ],
   "source": [
    "img = reconstructor.reconstruction(data_dict)\n",
    "img = comp.normalization(img)\n",
    "output_dir = Path('/data/anlab/Chunxu/DL_MOTIF')/'recon_results'/filename\n",
    "iou.check_mk_dirs(output_dir)\n",
    "iou.to_nifty(output_dir/(filename+'.h5'))"
   ]
  }
 ],
 "metadata": {
  "kernelspec": {
   "display_name": "base",
   "language": "python",
   "name": "python3"
  },
  "language_info": {
   "codemirror_mode": {
    "name": "ipython",
    "version": 3
   },
   "file_extension": ".py",
   "mimetype": "text/x-python",
   "name": "python",
   "nbconvert_exporter": "python",
   "pygments_lexer": "ipython3",
   "version": "3.10.9"
  },
  "orig_nbformat": 4,
  "vscode": {
   "interpreter": {
    "hash": "d675ec34598e6049595d01b931484e6080e4c764077ebc0f515ca8228d7e0d65"
   }
  }
 },
 "nbformat": 4,
 "nbformat_minor": 2
}
