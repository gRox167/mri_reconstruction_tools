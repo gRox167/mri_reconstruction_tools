{
 "cells": [
  {
   "cell_type": "code",
   "execution_count": 1,
   "metadata": {
    "notebookRunGroups": {
     "groupValue": "1"
    }
   },
   "outputs": [
    {
     "name": "stderr",
     "output_type": "stream",
     "text": [
      "/bmrc-homes/nmrgrp/nmr201/micromamba/envs/python311/lib/python3.11/site-packages/tqdm/auto.py:21: TqdmWarning: IProgress not found. Please update jupyter and ipywidgets. See https://ipywidgets.readthedocs.io/en/stable/user_install.html\n",
      "  from .autonotebook import tqdm as notebook_tqdm\n"
     ]
    }
   ],
   "source": [
    "%load_ext autoreload\n",
    "%autoreload 2\n",
    "\n",
    "from itertools import islice, product\n",
    "from typing import Any, Callable, Optional, Sequence, Type, Union\n",
    "\n",
    "import scipy.io as sio\n",
    "import torch\n",
    "from icecream import ic\n",
    "\n",
    "from mrboost import reconstruction as recon"
   ]
  },
  {
   "cell_type": "code",
   "execution_count": 2,
   "metadata": {
    "notebookRunGroups": {
     "groupValue": "1"
    }
   },
   "outputs": [
    {
     "name": "stdout",
     "output_type": "stream",
     "text": [
      "pymapVBVD version 0+untagged.22.gac0eb13.dirty\n",
      "Software version: VD\n",
      "                                                                             \r"
     ]
    },
    {
     "name": "stderr",
     "output_type": "stream",
     "text": [
      "read data:  71%|███████   | 10855/15360 [00:11<00:04, 978.60it/s] /bmrc-an-data/Chunxu/mrboost/src/mrboost/mapvbvd/twix_map_obj.py:870: RuntimeWarning: invalid value encountered in add\n",
      "  raw = (raw[:, 0] + 1j * raw[:, 1]).reshape(readShape, order=\"F\")\n",
      "                                                                  \r"
     ]
    },
    {
     "name": "stdout",
     "output_type": "stream",
     "text": [
      "{'ch_num': 52, 'partition_num': 48, 'spoke_num': 320, 'spoke_len': 384}\n"
     ]
    }
   ],
   "source": [
    "raw_data, shape_dict, mdh, twixobj = recon.get_raw_data(\n",
    "    \"/bmrc-an-data/Chunwei/WIP/Test_DCE_SoS/RawData/Subject_1/meas_MID00255_FID13072_fl3d_vibe_GA_2_320.dat\"\n",
    ")"
   ]
  },
  {
   "cell_type": "code",
   "execution_count": 3,
   "metadata": {
    "notebookRunGroups": {
     "groupValue": "1"
    }
   },
   "outputs": [],
   "source": [
    "ga_args = recon.DynGoldenAngleVibeArgs(\n",
    "    shape_dict, mdh, twixobj, contra_num=1, spokes_per_contra=160\n",
    ")"
   ]
  },
  {
   "cell_type": "code",
   "execution_count": 4,
   "metadata": {
    "notebookRunGroups": {
     "groupValue": "1"
    }
   },
   "outputs": [
    {
     "name": "stderr",
     "output_type": "stream",
     "text": [
      "100%|██████████| 13/13 [00:03<00:00,  4.06it/s]\n"
     ]
    }
   ],
   "source": [
    "preprocessed_data = recon.preprocess_raw_data(raw_data, ga_args)"
   ]
  },
  {
   "cell_type": "code",
   "execution_count": 5,
   "metadata": {
    "notebookRunGroups": {
     "groupValue": "1"
    }
   },
   "outputs": [
    {
     "name": "stdout",
     "output_type": "stream",
     "text": [
      "kspace_data_centralized torch.Size([1, 52, 60, 160, 384])\n",
      "kspace_data_z torch.Size([1, 52, 60, 160, 384])\n",
      "kspace_traj torch.Size([1, 2, 160, 384])\n"
     ]
    }
   ],
   "source": [
    "for k, v in preprocessed_data.items():\n",
    "    print(k, v.shape)"
   ]
  },
  {
   "cell_type": "code",
   "execution_count": 8,
   "metadata": {
    "notebookRunGroups": {
     "groupValue": "1"
    }
   },
   "outputs": [
    {
     "name": "stderr",
     "output_type": "stream",
     "text": [
      "ic| 'reconstructing contrast:', t: 0\n",
      "/bmrc-homes/nmrgrp/nmr201/micromamba/envs/python311/lib/python3.11/site-packages/jax/_src/dlpack.py:71: UserWarning: take_ownership in to_dlpack is deprecated and it is a no-op.\n",
      "  warnings.warn(\n"
     ]
    }
   ],
   "source": [
    "image = recon.mcnufft_reconstruct(preprocessed_data, ga_args, False)"
   ]
  },
  {
   "cell_type": "markdown",
   "metadata": {},
   "source": []
  },
  {
   "cell_type": "code",
   "execution_count": 20,
   "metadata": {},
   "outputs": [],
   "source": [
    "from scipy.io import savemat\n",
    "\n",
    "\n",
    "savemat(\n",
    "    \"/bmrc-an-data/Chunxu/MR_Recon/Subject_1/meas_MID00255_FID13072_fl3d_vibe_GA_2_320.mat\",\n",
    "    {\"image\": image.abs()},\n",
    ")"
   ]
  }
 ],
 "metadata": {
  "kernelspec": {
   "display_name": "Python 3",
   "language": "python",
   "name": "python3"
  },
  "language_info": {
   "codemirror_mode": {
    "name": "ipython",
    "version": 3
   },
   "file_extension": ".py",
   "mimetype": "text/x-python",
   "name": "python",
   "nbconvert_exporter": "python",
   "pygments_lexer": "ipython3",
   "version": "3.11.7"
  }
 },
 "nbformat": 4,
 "nbformat_minor": 2
}
