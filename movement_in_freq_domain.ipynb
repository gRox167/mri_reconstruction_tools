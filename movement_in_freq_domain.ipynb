{
 "cells": [
  {
   "cell_type": "code",
   "execution_count": null,
   "metadata": {},
   "outputs": [],
   "source": [
    "from pathlib import Path\n",
    "import numpy as np\n",
    "import einops as eo\n",
    "from matplotlib import pyplot as plt\n",
    "# plt.rcParams['text.usetex'] = False\n",
    "# import torch\n",
    "# import torchkbnufft as tkbn\n",
    "# from functorch import vmap\n",
    "\n",
    "# from src import preprocessing as pre\n",
    "# from src import io_utils as iou\n",
    "# from src import reconstruction as recon\n",
    "# from src import computation as comp\n",
    "# from src.coil_sensitivity_estimation import lowk_xy,lowk_xyz,lowk_xyz_per_phase\n",
    "\n",
    "%load_ext autoreload\n",
    "%autoreload 2\n",
    "# import importlib\n",
    "# importlib.reload(iou)\n",
    "# importlib.reload(pre)\n",
    "# importlib.reload(recon)\n",
    "# importlib.reload(comp)"
   ]
  },
  {
   "cell_type": "code",
   "execution_count": null,
   "metadata": {},
   "outputs": [],
   "source": [
    "img = np.zeros((256,256))\n",
    "h,w = img.shape\n",
    "point_cord = (127,127)\n",
    "img[point_cord[0],point_cord[1]] = 1\n",
    "img[h-point_cord[0],point_cord[1]] = 1\n",
    "img[h-point_cord[0],w-point_cord[1]] = 1\n",
    "img[point_cord[0],w-point_cord[1]] = 1"
   ]
  },
  {
   "cell_type": "code",
   "execution_count": null,
   "metadata": {},
   "outputs": [],
   "source": [
    "plt.imshow(img)"
   ]
  }
 ],
 "metadata": {
  "kernelspec": {
   "display_name": "base",
   "language": "python",
   "name": "python3"
  },
  "language_info": {
   "name": "python",
   "version": "3.9.13 (main, Aug 25 2022, 23:26:10) \n[GCC 11.2.0]"
  },
  "orig_nbformat": 4,
  "vscode": {
   "interpreter": {
    "hash": "d675ec34598e6049595d01b931484e6080e4c764077ebc0f515ca8228d7e0d65"
   }
  }
 },
 "nbformat": 4,
 "nbformat_minor": 2
}
